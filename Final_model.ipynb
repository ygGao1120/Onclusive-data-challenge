{
  "nbformat": 4,
  "nbformat_minor": 0,
  "metadata": {
    "colab": {
      "name": "Final_model.ipynb",
      "provenance": [],
      "mount_file_id": "1OdmHj1Anrt1JtXWMEybv41UlQDTS6YBc",
      "authorship_tag": "ABX9TyPXV6xuxtXYk/p2mLgtuY8R",
      "include_colab_link": true
    },
    "kernelspec": {
      "name": "python3",
      "display_name": "Python 3"
    },
    "language_info": {
      "name": "python"
    },
    "accelerator": "GPU"
  },
  "cells": [
    {
      "cell_type": "markdown",
      "metadata": {
        "id": "view-in-github",
        "colab_type": "text"
      },
      "source": [
        "<a href=\"https://colab.research.google.com/github/ygGao1120/Onclusive-data-challenge/blob/main/Final_model.ipynb\" target=\"_parent\"><img src=\"https://colab.research.google.com/assets/colab-badge.svg\" alt=\"Open In Colab\"/></a>"
      ]
    },
    {
      "cell_type": "code",
      "source": [
        "from google.colab import drive\n",
        "drive.mount('/content/drive')"
      ],
      "metadata": {
        "id": "xoH3-_LQ5evF"
      },
      "execution_count": null,
      "outputs": []
    },
    {
      "cell_type": "code",
      "execution_count": null,
      "metadata": {
        "id": "N5NxrXA_5Ao2"
      },
      "outputs": [],
      "source": [
        "import os\n",
        "os.chdir('drive/MyDrive/interview/Onclusive data assignment')\n",
        "!ls"
      ]
    },
    {
      "cell_type": "code",
      "source": [
        "pip install transformers"
      ],
      "metadata": {
        "id": "Jw-V9e_95FhS"
      },
      "execution_count": null,
      "outputs": []
    },
    {
      "cell_type": "code",
      "source": [
        "import numpy as np\n",
        "import pandas as pd\n",
        "import torch\n",
        "#import transformers\n",
        "import warnings\n",
        "\n",
        "warnings.filterwarnings('ignore')\n",
        "\n",
        "from torch import nn\n",
        "from torch import optim\n",
        "import transformers as tfs\n",
        "import math"
      ],
      "metadata": {
        "id": "LiwxKa_x57NX"
      },
      "execution_count": null,
      "outputs": []
    },
    {
      "cell_type": "code",
      "source": [
        "df_train = pd.read_excel('cleaned_train.xlsx')\n",
        "df_valid = pd.read_excel('cleaned_valid.xlsx')\n",
        "df_test = pd.read_excel('cleaned_test.xlsx')"
      ],
      "metadata": {
        "id": "wwsf4-uO6DQm"
      },
      "execution_count": null,
      "outputs": []
    },
    {
      "cell_type": "code",
      "source": [
        "class BertClassificationModel(nn.Module):\n",
        "    def __init__(self):\n",
        "        super(BertClassificationModel, self).__init__()   \n",
        "        model_class, tokenizer_class, pretrained_weights = (tfs.BertModel, tfs.BertTokenizer, \"monologg/biobert_v1.1_pubmed\")         \n",
        "        self.tokenizer = tokenizer_class.from_pretrained(pretrained_weights)\n",
        "        self.bert = model_class.from_pretrained(pretrained_weights)\n",
        "        self.dense = nn.Linear(768, 4)  # a linear layer for classification, 4 means there are 4 types of label in total\n",
        "        \n",
        "    def forward(self, batch_sentences):\n",
        "        batch_tokenized = self.tokenizer.batch_encode_plus(batch_sentences, add_special_tokens=True,\n",
        "                                max_length=100, pad_to_max_length=True)      #tokenize、add special token、pad\n",
        "        input_ids = torch.tensor(batch_tokenized['input_ids'])#GPU\n",
        "        attention_mask = torch.tensor(batch_tokenized['attention_mask'])#GPU\n",
        "        bert_output = self.bert(input_ids, attention_mask=attention_mask)\n",
        "        bert_cls_hidden_state = bert_output[0][:,0,:]       #get [CLS]\n",
        "        linear_output = self.dense(bert_cls_hidden_state)\n",
        "        return linear_output"
      ],
      "metadata": {
        "id": "cJzLGj9-6Hzm"
      },
      "execution_count": null,
      "outputs": []
    },
    {
      "cell_type": "code",
      "source": [
        "#merge training set and validation set together as the new training set\n",
        "train = pd.concat([df_train,df_valid])"
      ],
      "metadata": {
        "id": "7r-v9RPS62HO"
      },
      "execution_count": null,
      "outputs": []
    },
    {
      "cell_type": "code",
      "source": [
        "train.shape"
      ],
      "metadata": {
        "id": "FWIwzm_U7AJX"
      },
      "execution_count": null,
      "outputs": []
    },
    {
      "cell_type": "code",
      "source": [
        "#creat a column that has the information from both claim and explanation\n",
        "train['add'] = train.apply(lambda x: [x.clean_claim] + [x.clean_explanation],axis = 1)\n",
        "df_test['add'] = df_test.apply(lambda x: [x.clean_claim] + [x.clean_explanation],axis = 1)"
      ],
      "metadata": {
        "id": "RmKB46O27Ipc"
      },
      "execution_count": null,
      "outputs": []
    },
    {
      "cell_type": "code",
      "source": [
        "train_inputs = train['add'].values\n",
        "test_inputs = df_test['add'].values\n",
        "\n",
        "train_targets = train['label'].values\n",
        "test_targets = df_test['label'].values\n",
        "\n",
        "# spilt the data based on batch size\n",
        "batch_size = 64\n",
        "batch_count = int(len(train_inputs) / batch_size)\n",
        "batch_train_inputs, batch_train_targets = [], []\n",
        "for i in range(batch_count):\n",
        "    batch_train_inputs.append(train_inputs[i*batch_size : (i+1)*batch_size])\n",
        "    batch_train_targets.append(train_targets[i*batch_size : (i+1)*batch_size])"
      ],
      "metadata": {
        "id": "bh1lapEA7Rs_"
      },
      "execution_count": null,
      "outputs": []
    },
    {
      "cell_type": "code",
      "source": [
        "train_targets.shape"
      ],
      "metadata": {
        "id": "YqvSVDMD7ezZ"
      },
      "execution_count": null,
      "outputs": []
    },
    {
      "cell_type": "code",
      "source": [
        "#training\n",
        "epochs = 1\n",
        "lr = 4e-5\n",
        "print_every_batch = 5\n",
        "bert_classifier_model = BertClassificationModel()\n",
        "optimizer = torch.optim.Adam(bert_classifier_model.parameters(),lr=lr)#Adam optimizer\n",
        "criterion = nn.CrossEntropyLoss()\n",
        "\n",
        "for epoch in range(epochs):\n",
        "    print_avg_loss = 0\n",
        "    for i in range(batch_count):\n",
        "        inputs = batch_train_inputs[i]\n",
        "        labels = torch.tensor(batch_train_targets[i])#GPU\n",
        "        optimizer.zero_grad()\n",
        "        outputs = bert_classifier_model(inputs)\n",
        "        loss = criterion(outputs, labels)\n",
        "        loss.backward()\n",
        "        optimizer.step()\n",
        "        \n",
        "        print_avg_loss += loss.item()\n",
        "        if i % print_every_batch == (print_every_batch-1):\n",
        "            print(\"Batch: %d, Loss: %.4f\" % ((i+1), print_avg_loss/print_every_batch))\n",
        "            print_avg_loss = 0"
      ],
      "metadata": {
        "id": "WOSqR_pq9UM-"
      },
      "execution_count": null,
      "outputs": []
    },
    {
      "cell_type": "code",
      "source": [
        "test_hit = 0\n",
        "total = len(test_inputs)\n",
        "for i in range(total):\n",
        "    outputs = bert_classifier_model([test_inputs[i]])\n",
        "    _,predict = torch.max(outputs,1)\n",
        "    if predict==test_targets[i]:\n",
        "        test_hit+=1\n",
        "#print('Test accuracy is %.4f'%(test_hit/len(test_inputs)))"
      ],
      "metadata": {
        "id": "L_Zboytk9eNK"
      },
      "execution_count": null,
      "outputs": []
    },
    {
      "cell_type": "code",
      "source": [
        "print('Test accuracy is %.4f'%(test_hit/len(test_inputs)))"
      ],
      "metadata": {
        "id": "Cuvqkq5r9qgJ"
      },
      "execution_count": null,
      "outputs": []
    },
    {
      "cell_type": "code",
      "source": [
        "torch.save(bert_classifier_model, r'\\Final_model.pkl')"
      ],
      "metadata": {
        "id": "Ar1RrPou9uzg"
      },
      "execution_count": null,
      "outputs": []
    },
    {
      "cell_type": "code",
      "source": [
        ""
      ],
      "metadata": {
        "id": "0gFzUvCy3SsE"
      },
      "execution_count": null,
      "outputs": []
    }
  ]
}